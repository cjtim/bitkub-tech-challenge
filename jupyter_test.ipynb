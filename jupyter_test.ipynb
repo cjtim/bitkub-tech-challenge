{
 "metadata": {
  "language_info": {
   "codemirror_mode": {
    "name": "ipython",
    "version": 3
   },
   "file_extension": ".py",
   "mimetype": "text/x-python",
   "name": "python",
   "nbconvert_exporter": "python",
   "pygments_lexer": "ipython3",
   "version": "3.8.5-final"
  },
  "orig_nbformat": 2,
  "kernelspec": {
   "name": "python385jvsc74a57bd0cd4e4c9380a950c3c88d19dd76fea1deba0ee0aee94fd802ec993f7c8c5f235a",
   "display_name": "Python 3.8.5 64-bit (conda)"
  }
 },
 "nbformat": 4,
 "nbformat_minor": 2,
 "cells": [
  {
   "cell_type": "code",
   "execution_count": 2,
   "metadata": {},
   "outputs": [],
   "source": [
    "import urllib.request\n",
    "import json\n",
    "import pandas as pd\n",
    "import time\n",
    "KEY_API = '7VGM2ZKZ92VRXI4IPDIMXFC2CPA3A1HH2M'\n",
    "\n",
    "\n",
    "def getAccountTransaction(account: str):\n",
    "    f = urllib.request.urlopen(\n",
    "        'https://api-ropsten.etherscan.io/api?module=account&action=tokentx&address=' + account +\n",
    "        '&startblock=0&endblock=999999999&sort=asc&apikey=' + KEY_API\n",
    "    )\n",
    "    time.sleep(1)\n",
    "    data = json.loads(f.read().decode('utf-8'))\n",
    "    return data['result']\n",
    "\n",
    "\n",
    "def getData(accountId: str) -> list:\n",
    "    outputData = []\n",
    "    toAccount = []\n",
    "    transaction = getAccountTransaction(accountId.lower())\n",
    "    for i in transaction:\n",
    "        if (i['from'] == accountId.lower() and i['tokenSymbol'] == 'BKTC'):\n",
    "            outputData.append({\n",
    "                'txHash': i['hash'],\n",
    "                'from': i['from'],\n",
    "                'to': i['to'],\n",
    "                'value': int(i['value'])\n",
    "            })\n",
    "            toAccount.append(i['to'])\n",
    "    toAccount = list(dict.fromkeys(toAccount))  # remove dup\n",
    "    if (len(toAccount) > 0):\n",
    "        for account in toAccount:\n",
    "            outputData.extend(getData(account)) # recursive\n",
    "    return outputData\n",
    "\n"
   ]
  },
  {
   "cell_type": "code",
   "execution_count": 3,
   "metadata": {},
   "outputs": [],
   "source": [
    "global CSVoutput\n",
    "CSVoutput = getData('0xEcA19B1a87442b0c25801B809bf567A6ca87B1da')\n",
    "pd.DataFrame(CSVoutput).to_csv('output.csv')\n"
   ]
  },
  {
   "cell_type": "code",
   "execution_count": 4,
   "metadata": {},
   "outputs": [],
   "source": [
    "df = pd.DataFrame(CSVoutput)"
   ]
  },
  {
   "cell_type": "code",
   "execution_count": 8,
   "metadata": {},
   "outputs": [],
   "source": [
    "df['value'] = df['value'] / 10**18"
   ]
  },
  {
   "cell_type": "code",
   "execution_count": 9,
   "metadata": {},
   "outputs": [],
   "source": [
    "accountBalance = df.groupby('to').sum()"
   ]
  },
  {
   "cell_type": "code",
   "execution_count": 10,
   "metadata": {},
   "outputs": [
    {
     "output_type": "execute_result",
     "data": {
      "text/plain": [
       "                                            value\n",
       "to                                               \n",
       "0x04bb39f36bbadf4e31aa1df09a2f5a0b76114a62    2.0\n",
       "0x11759e580b444aa1136482929984c76a19ef2794    3.0\n",
       "0x4b41947e269464408bbd9dce7346a7e07d522b12    5.0\n",
       "0x635893f9918cbb41cb6c6bde4a87e5959f53dd56    5.0\n",
       "0x711447b288e2f853fa9716aa8eba37b02ca8a50f   13.0\n",
       "0x873ce5c27fe1a679b724e25b5a856282a93b137f    5.0\n",
       "0x8d16abfba10c079340ddf2b252f94353cdccfa57   11.0\n",
       "0x8f8d0e8c921b6fbee6da796f3c823a8a1e354bea    6.0\n",
       "0x936146f6850dc157e77fc060c442e0bdffbbe6ff    7.0\n",
       "0xabde0e83ba513891aa3bc0a2f796132cae026106   10.0\n",
       "0xee889cdf628e138f15538304fd72e2af56cbe4b6   10.0"
      ],
      "text/html": "<div>\n<style scoped>\n    .dataframe tbody tr th:only-of-type {\n        vertical-align: middle;\n    }\n\n    .dataframe tbody tr th {\n        vertical-align: top;\n    }\n\n    .dataframe thead th {\n        text-align: right;\n    }\n</style>\n<table border=\"1\" class=\"dataframe\">\n  <thead>\n    <tr style=\"text-align: right;\">\n      <th></th>\n      <th>value</th>\n    </tr>\n    <tr>\n      <th>to</th>\n      <th></th>\n    </tr>\n  </thead>\n  <tbody>\n    <tr>\n      <th>0x04bb39f36bbadf4e31aa1df09a2f5a0b76114a62</th>\n      <td>2.0</td>\n    </tr>\n    <tr>\n      <th>0x11759e580b444aa1136482929984c76a19ef2794</th>\n      <td>3.0</td>\n    </tr>\n    <tr>\n      <th>0x4b41947e269464408bbd9dce7346a7e07d522b12</th>\n      <td>5.0</td>\n    </tr>\n    <tr>\n      <th>0x635893f9918cbb41cb6c6bde4a87e5959f53dd56</th>\n      <td>5.0</td>\n    </tr>\n    <tr>\n      <th>0x711447b288e2f853fa9716aa8eba37b02ca8a50f</th>\n      <td>13.0</td>\n    </tr>\n    <tr>\n      <th>0x873ce5c27fe1a679b724e25b5a856282a93b137f</th>\n      <td>5.0</td>\n    </tr>\n    <tr>\n      <th>0x8d16abfba10c079340ddf2b252f94353cdccfa57</th>\n      <td>11.0</td>\n    </tr>\n    <tr>\n      <th>0x8f8d0e8c921b6fbee6da796f3c823a8a1e354bea</th>\n      <td>6.0</td>\n    </tr>\n    <tr>\n      <th>0x936146f6850dc157e77fc060c442e0bdffbbe6ff</th>\n      <td>7.0</td>\n    </tr>\n    <tr>\n      <th>0xabde0e83ba513891aa3bc0a2f796132cae026106</th>\n      <td>10.0</td>\n    </tr>\n    <tr>\n      <th>0xee889cdf628e138f15538304fd72e2af56cbe4b6</th>\n      <td>10.0</td>\n    </tr>\n  </tbody>\n</table>\n</div>"
     },
     "metadata": {},
     "execution_count": 10
    }
   ],
   "source": [
    "accountBalance.loc[:, ['value']]"
   ]
  },
  {
   "cell_type": "code",
   "execution_count": null,
   "metadata": {},
   "outputs": [],
   "source": []
  }
 ]
}